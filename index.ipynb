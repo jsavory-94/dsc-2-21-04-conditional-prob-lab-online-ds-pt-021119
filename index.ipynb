{
 "cells": [
  {
   "cell_type": "markdown",
   "metadata": {},
   "source": [
    "# Conditional Probability - Lab"
   ]
  },
  {
   "cell_type": "markdown",
   "metadata": {},
   "source": [
    "## Introduction\n",
    "\n",
    "In order to be ready for real world applications of probability, it is important to understand what happens when probabilities are not independent. Very often, the probability of a certain event depends on other events happening! Let's see how this all works in this lab.\n",
    "\n",
    "## Objectives"
   ]
  },
  {
   "cell_type": "markdown",
   "metadata": {},
   "source": [
    "You will be able to:\n",
    "\n",
    "- Understand and Explain the conditional probability - P(A∩B) = P(A|B) x P(B)\n",
    "- Use the multiplication rule to find the probability of the intersection of two events\n",
    "- Apply the techniques learned in the lesson to simple problems\n"
   ]
  },
  {
   "cell_type": "markdown",
   "metadata": {},
   "source": [
    "## Exercise 1\n",
    "A coin is tossed and a single 6-sided die is rolled. Find the probability of landing on the head side of the coin and rolling a 3 on the die."
   ]
  },
  {
   "cell_type": "code",
   "execution_count": 1,
   "metadata": {},
   "outputs": [
    {
     "data": {
      "text/plain": [
       "0.08333333333333333"
      ]
     },
     "execution_count": 1,
     "metadata": {},
     "output_type": "execute_result"
    }
   ],
   "source": [
    "prob1 = (1/2) * (1/6)\n",
    "prob1"
   ]
  },
  {
   "cell_type": "markdown",
   "metadata": {},
   "source": [
    "## Exercise 2\n",
    "A school survey found that 9 out of 10 students like pizza. If three students are chosen at random **with replacement**, what is the probability that all three students like pizza?"
   ]
  },
  {
   "cell_type": "code",
   "execution_count": 3,
   "metadata": {},
   "outputs": [
    {
     "data": {
      "text/plain": [
       "0.7290000000000001"
      ]
     },
     "execution_count": 3,
     "metadata": {},
     "output_type": "execute_result"
    }
   ],
   "source": [
    "prob2 = (9/10)**3\n",
    "prob2"
   ]
  },
  {
   "cell_type": "markdown",
   "metadata": {},
   "source": [
    "## Exercise 3\n",
    "70% of your friends like Chocolate flavored ice cream , and 35% like Chocolate AND like Strawberry flavors.\n",
    "\n",
    "What percent of those who like Chocolate also like Strawberry?"
   ]
  },
  {
   "cell_type": "code",
   "execution_count": 6,
   "metadata": {},
   "outputs": [
    {
     "data": {
      "text/plain": [
       "0.5"
      ]
     },
     "execution_count": 6,
     "metadata": {},
     "output_type": "execute_result"
    }
   ],
   "source": [
    "import numpy as np\n",
    "\n",
    "c = .70\n",
    "c_and_s = .35\n",
    "percent_of_those_who_like_chocolate_who_also_like_strawberry = np.reciprocal(c/c_and_s)\n",
    "percent_of_those_who_like_chocolate_who_also_like_strawberry"
   ]
  },
  {
   "cell_type": "markdown",
   "metadata": {},
   "source": [
    "50% of your friends who like Chocolate also like Strawberry"
   ]
  },
  {
   "cell_type": "markdown",
   "metadata": {},
   "source": [
    "## Exercise 4\n",
    "What is the probability of drawing 2 consecutive Aces from a Deck of cards. "
   ]
  },
  {
   "cell_type": "code",
   "execution_count": 7,
   "metadata": {},
   "outputs": [
    {
     "data": {
      "text/plain": [
       "0.004524886877828055"
      ]
     },
     "execution_count": 7,
     "metadata": {},
     "output_type": "execute_result"
    }
   ],
   "source": [
    "drawing_2_consecutive_aces = (4/52) * (3/51)\n",
    "drawing_2_consecutive_aces"
   ]
  },
  {
   "cell_type": "markdown",
   "metadata": {},
   "source": [
    "## Exercise 5\n",
    "In a manufacturing factory that produces a certain product, there are 100 units of the product, 5 of which are defective. We pick three units from the 100 units at random. \n",
    "\n",
    "What is the probability that none of them are defective?\n",
    "Hint: Use chain rule"
   ]
  },
  {
   "cell_type": "code",
   "execution_count": 12,
   "metadata": {
    "scrolled": true
   },
   "outputs": [
    {
     "data": {
      "text/plain": [
       "0.1210162853019996"
      ]
     },
     "execution_count": 12,
     "metadata": {},
     "output_type": "execute_result"
    }
   ],
   "source": [
    "prob_that_at_least1_is_defective = (5/100) + (4/99) + (3/98)\n",
    "prob_that_at_least1_is_defective"
   ]
  },
  {
   "cell_type": "markdown",
   "metadata": {},
   "source": [
    "## Exercise 6"
   ]
  },
  {
   "cell_type": "markdown",
   "metadata": {},
   "source": [
    "Let's consider the example where 2 dice are thrown. Given that **at least one** of the dice has come up on a number higher than 4, what is the probability that the sum is 8?\n",
    "\n",
    "Let i,j be the numbers shown on the dice . Denote events as below:\n",
    "\n",
    "* **Event A is when Either i Or j is 5 or 6** (Keep an eye on either - or)\n",
    "* **Event B is when i + j = 8**\n",
    "\n",
    "\n",
    "* What is the size of sample space Ω ?\n",
    "* What is P(A ∩ B) ?\n",
    "* What is P(A) ?\n",
    "* Use above to calculate P(B|A) ."
   ]
  },
  {
   "cell_type": "code",
   "execution_count": 27,
   "metadata": {},
   "outputs": [
    {
     "data": {
      "text/plain": [
       "0.19999999999999998"
      ]
     },
     "execution_count": 27,
     "metadata": {},
     "output_type": "execute_result"
    }
   ],
   "source": [
    "#---Sample Dice---\n",
    "sample_dice = np.array([(1, 1), (1, 2), (1, 3), (1, 4), (1, 5), (1, 6),\n",
    "              (2, 1), (2, 2), (2, 3), (2, 4), (2, 5), (2, 6),\n",
    "              (3, 1), (3, 2), (3, 3), (3, 4), (3, 5), (3, 6),\n",
    "              (4, 1), (4, 2), (4, 3), (4, 4), (4, 5), (4, 6),\n",
    "              (5, 1), (5, 2), (5, 3), (5, 4), (5, 5), (5, 6),\n",
    "              (6, 1), (6, 2), (6, 3), (6, 4), (6, 5), (6, 6)])\n",
    "\n",
    "sample_dice_set = set([(1, 1), (1, 2), (1, 3), (1, 4), (1, 5), (1, 6),\n",
    "              (2, 1), (2, 2), (2, 3), (2, 4), (2, 5), (2, 6),\n",
    "              (3, 1), (3, 2), (3, 3), (3, 4), (3, 5), (3, 6),\n",
    "              (4, 1), (4, 2), (4, 3), (4, 4), (4, 5), (4, 6),\n",
    "              (5, 1), (5, 2), (5, 3), (5, 4), (5, 5), (5, 6),\n",
    "              (6, 1), (6, 2), (6, 3), (6, 4), (6, 5), (6, 6)])\n",
    "\n",
    "#---Sample A---\n",
    "sample_A = np.array([(1, 5), (1, 6), (2, 5), (2, 6), (3, 5), (3, 6),(4, 5), (4, 6),\n",
    "              (5, 1), (5, 2), (5, 3), (5, 4), (5, 5), (5, 6),\n",
    "              (6, 1), (6, 2), (6, 3), (6, 4), (6, 5), (6, 6)])\n",
    "\n",
    "sample_A_set = set([(1, 5), (1, 6), (2, 5), (2, 6), (3, 5), (3, 6),(4, 5), (4, 6),\n",
    "              (5, 1), (5, 2), (5, 3), (5, 4), (5, 5), (5, 6),\n",
    "              (6, 1), (6, 2), (6, 3), (6, 4), (6, 5), (6, 6)])\n",
    "\n",
    "#---Sample B---\n",
    "sample_B = np.array([(2, 6), (3, 5), (5, 3), (6, 2), (4, 4)])\n",
    "sample_B_set = set([(2, 6), (3, 5), (5, 3), (6, 2), (4, 4)])\n",
    "\n",
    "\n",
    "#---Probabilities---\n",
    "A_and_B_set = sample_A_set & sample_B_set\n",
    "probability_A_and_B = len(A_and_B_set)/len(sample_dice_set)\n",
    "\n",
    "probability_A = len(sample_A_set)/len(sample_dice_set)\n",
    "\n",
    "probability_B = len(sample_B_set)/len(sample_dice_set)\n",
    "probability_B\n",
    "\n",
    "\n",
    "probability_B_given_A = probability_A_and_B/probability_A\n",
    "probability_B_given_A"
   ]
  },
  {
   "cell_type": "markdown",
   "metadata": {},
   "source": [
    "## Exercise 7\n",
    "\n",
    "Let's consider a credit card example. At a supermarket, we randomly select customers and make notes of whether a given customer owns a Visa card (event A) or an Amex credit card (event B). Some customers own both cards.\n",
    "You can assume that:\n",
    "\n",
    "- P(A) = 0.5\n",
    "- P(B) = 0.4\n",
    "- both A and B = 0.25.\n"
   ]
  },
  {
   "cell_type": "markdown",
   "metadata": {},
   "source": [
    "With the knowledge we have about conditional probabilities, compute and interpret the following probabilities:\n",
    "\n",
    "- $P(B \\mid A)$\n",
    "- $P(B'\\mid A)$\n",
    "- $P(A\\mid B)$\n",
    "- $P(A'\\mid B)$\n"
   ]
  },
  {
   "cell_type": "code",
   "execution_count": 37,
   "metadata": {},
   "outputs": [
    {
     "name": "stdout",
     "output_type": "stream",
     "text": [
      "P(B|A): 0.5\n",
      "P(B'|A): 0.5\n",
      "P(A|B): 0.625\n",
      "P(A'|B): 0.375\n"
     ]
    }
   ],
   "source": [
    "prob_A = 0.5\n",
    "prob_B = 0.4\n",
    "prob_AandB = 0.25\n",
    "\n",
    "#P(B|A)\n",
    "prob_B_given_A = prob_AandB/prob_A\n",
    "print('P(B|A): ' + str(prob_B_given_A))\n",
    "\n",
    "#P(B'|A)\n",
    "prob_notB_givenA = 1 - prob_B_given_A\n",
    "print('P(B\\'|A): ' + str(prob_notB_givenA))\n",
    "\n",
    "#P(A|B)\n",
    "prob_A_given_B = prob_AandB/prob_B\n",
    "print('P(A|B): ' + str(prob_A_given_B))\n",
    "\n",
    "#P(A'|B)\n",
    "prob_not_A_given_B = 1 - prob_A_given_B\n",
    "print('P(A\\'|B): ' + str(prob_not_A_given_B))"
   ]
  },
  {
   "cell_type": "markdown",
   "metadata": {},
   "source": [
    "## Summary \n",
    "\n",
    "In this lab we practiced around conditional probability and its theorem with some simple problems. The key takeaway from this lab is to to be able to identify random events as dependent or independent and calculating the probability of their occurrence using appropriate methods. Next we'll start focusing on the some more conditional probability axioms, building on the knowledge we have thus far. "
   ]
  }
 ],
 "metadata": {
  "kernelspec": {
   "display_name": "Python 3",
   "language": "python",
   "name": "python3"
  },
  "language_info": {
   "codemirror_mode": {
    "name": "ipython",
    "version": 3
   },
   "file_extension": ".py",
   "mimetype": "text/x-python",
   "name": "python",
   "nbconvert_exporter": "python",
   "pygments_lexer": "ipython3",
   "version": "3.6.5"
  }
 },
 "nbformat": 4,
 "nbformat_minor": 2
}
